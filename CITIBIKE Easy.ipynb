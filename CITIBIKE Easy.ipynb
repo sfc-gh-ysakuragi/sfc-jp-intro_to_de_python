{
 "metadata": {
  "kernelspec": {
   "display_name": "Streamlit Notebook",
   "name": "streamlit"
  },
  "lastEditStatus": {
   "notebookId": "427yifc66wn4pxcualjm",
   "authorId": "7489729717373",
   "authorName": "YSAKURAGI",
   "authorEmail": "yuki.sakuragi@snowflake.com",
   "sessionId": "940f5b6e-44c2-4d67-8c20-fc14f37f1d4c",
   "lastEditTime": 1755461610264
  }
 },
 "nbformat_minor": 5,
 "nbformat": 4,
 "cells": [
  {
   "cell_type": "markdown",
   "id": "c95425fc-27c3-489d-8fc1-c95006550964",
   "metadata": {
    "name": "Intro",
    "collapsed": false
   },
   "source": "# CitiBikeのデータでデータ加工や可視化を試してみよう\n![IMAGE](https://lh3.googleusercontent.com/pw/AP1GczPS2TfYRrwROnzWv5eLKTVzi4mGlyrwLVsaTlXsdwKsuAGG2nawb8IcNdq6md7VJLMs3bqAMMNofiSSXBWp2gaAcGmRoxxFDqCcUUirtnMF7WXm8E4ZubjHvbWTyUGoOipaOJMooVQomZpku6PBI5Ae=w960-h540-s-no-gm?authuser=0)\n\n![IMAGE](https://lh3.googleusercontent.com/pw/AP1GczNF0E4PI2z5VK9DGPaZNpoB4PoMCdxuXbe5C1QIkh_UTrgZuOAwr7rU5GPAhbh2ohoxRw_cwZ-J_Dl9SPxce-dUVAx9qFydap_F2e9-Gy3HHvRRvYpkNO8rTd2jBy6VvRQCDyg_hOQwTW7mZelnTaNh=w960-h540-s-no-gm?authuser=0)\n\n- [該当QuickStarts](https://docs.snowflake.com/developer-guide/snowpark/reference/python/latest/snowpark/index)"
  },
  {
   "cell_type": "code",
   "id": "84a75432-16a7-4443-b8a6-e89af2cef4ec",
   "metadata": {
    "language": "sql",
    "name": "create_db"
   },
   "outputs": [],
   "source": "use role accountadmin;\n\ncreate or replace database citibike; -- CitiBikeデータベースを作成\n\nuse database citibike;\nuse schema public; -- CitiBikeデータベースの下に,publicスキーマを作成\nuse warehouse compute_wh;",
   "execution_count": null
  },
  {
   "cell_type": "code",
   "id": "6f2e0b4b-259b-45d7-b140-6ddd24f69064",
   "metadata": {
    "language": "sql",
    "name": "create_table"
   },
   "outputs": [],
   "source": "/* Tripsテーブルを作成 */\ncreate or replace table trips\n(\n    tripduration integer,              -- 利用時間（秒単位など）\n    starttime timestamp,               -- 出発時刻（いつ借りたか）\n    stoptime timestamp,                -- 到着時刻（いつ返却したか）\n    \n    start_station_id integer,          -- 出発ステーションのID\n    start_station_name string,         -- 出発ステーションの名称\n    start_station_latitude float,      -- 出発ステーションの緯度\n    start_station_longitude float,     -- 出発ステーションの経度\n    \n    end_station_id integer,            -- 到着ステーションのID\n    end_station_name string,           -- 到着ステーションの名称\n    end_station_latitude float,        -- 到着ステーションの緯度\n    end_station_longitude float,       -- 到着ステーションの経度\n    \n    bikeid integer,                    -- 自転車のID（どの自転車を使ったか）\n    \n    membership_type string,            -- 会員種別（例: 年間会員/1日利用など）\n    usertype string,                   -- ユーザータイプ\n    \n    birth_year integer,                -- 利用者の生年（例: 1990）\n    gender integer                     -- 性別（数値で表現されるケースあり：0=不明, 1=男性, 2=女性 など）\n);\n",
   "execution_count": null
  },
  {
   "cell_type": "code",
   "id": "886ed0c2-9827-498f-b1b2-c3a5ef8141c5",
   "metadata": {
    "language": "sql",
    "name": "create_stage"
   },
   "outputs": [],
   "source": "/* 外部ステージ作成\ns3のパスは以下の通り\ns3://snowflake-workshop-lab/japan/citibike-trips/\n*/\ncreate or replace stage citibike_trips\n    ***;\n\n--> 外部ステージにあるファイルの一覧を確認\nlist @citibike_trips;\n -- 年毎に複数ファイルに分割されて格納されている\n -- AWS S3上に置かれているデータは 377個のファイル(gz圧縮後 1.9GB), 6,150万行",
   "execution_count": null
  },
  {
   "cell_type": "code",
   "id": "4e210898-84d1-4c4e-b752-c105743699c6",
   "metadata": {
    "language": "sql",
    "name": "create_file_format"
   },
   "outputs": [],
   "source": "/* ファイルフォーマットの作成 */\ncreate or replace file format csv type='csv'\n  compression = 'auto' field_delimiter = ',' record_delimiter = '\\n'\n  skip_header = 0 field_optionally_enclosed_by = '\\042' trim_space = false\n  error_on_column_count_mismatch = false escape = 'none' escape_unenclosed_field = '\\134'\n  date_format = 'auto' timestamp_format = 'auto' null_if = ('') comment = 'file format for ingesting data for zero to snowflake';\n\n--> 作成した File Format を確認\nshow file formats in database citibike;",
   "execution_count": null
  },
  {
   "cell_type": "code",
   "id": "b9aa5081-8de9-467e-b354-3e0d65c16e69",
   "metadata": {
    "language": "sql",
    "name": "data_load"
   },
   "outputs": [],
   "source": "/* 外部ステージからデータロード */\n*** ;",
   "execution_count": null
  },
  {
   "cell_type": "code",
   "id": "1510839b-04ba-4bfb-a726-f19eb2e956fd",
   "metadata": {
    "language": "sql",
    "name": "check_trips"
   },
   "outputs": [],
   "source": "select * from trips limit 10;",
   "execution_count": null
  },
  {
   "cell_type": "code",
   "id": "3775908f-ca36-4846-8f38-5adca39217f2",
   "metadata": {
    "language": "python",
    "name": "import_packages"
   },
   "source": "# Import python packages\nimport streamlit as st\nimport pandas as pd\nimport snowflake.snowpark.functions as F\n\n# We can also use Snowpark for our analyses!\nfrom snowflake.snowpark.context import get_active_session\nsession = get_active_session()\n",
   "execution_count": null,
   "outputs": []
  },
  {
   "cell_type": "code",
   "id": "924d6e61-9061-43fc-9faf-c582109e329a",
   "metadata": {
    "language": "python",
    "name": "dataframe_load_data"
   },
   "outputs": [],
   "source": "# Snowflake セッションから \"CITIBIKE.PUBLIC.TRIPS\" というテーブルを取得し、\n# そのテーブルを DataFrame として扱えるように変数 df に格納\ndf = ****\n\n# DataFrame (df) の最初の 5 行だけを取り出して、\n# Streamlit の st.dataframe を使って画面に表形式で表示する\nst.dataframe(df.limit(5))\n",
   "execution_count": null
  },
  {
   "cell_type": "code",
   "id": "3617f9cd-4281-49de-b378-64927223bad6",
   "metadata": {
    "language": "python",
    "name": "data_engineering_1"
   },
   "outputs": [],
   "source": "# 年月ごとに利用回数を集計\n\n# 結果を表示\nst.dataframe()",
   "execution_count": null
  },
  {
   "cell_type": "code",
   "id": "c0bff162-f822-48a5-b1e1-7815ca65ae93",
   "metadata": {
    "language": "python",
    "name": "visualize_1"
   },
   "outputs": [],
   "source": "# Streamlitで可視化",
   "execution_count": null
  }
 ]
}